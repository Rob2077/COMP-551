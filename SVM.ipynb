{
 "cells": [
  {
   "cell_type": "markdown",
   "metadata": {},
   "source": [
    "# Perceptron \n",
    "The Perceptron algorithm finds the linear decision boundary by considering each example $x^{(n)}, y^{(n)} \\in \\mathcal{D}$, where $y^{(n)} \\in \\{-1,+1\\}$. \n",
    "If $\\hat{y}^{(n)} = w^\\top x^{(n)}$ has a different sign from $y^{(n)}$ the weights are updated to *increase* $\\hat{y}^{(n)} {y}^{(n)}$. The gradient of \n",
    "$\\hat{y}^{(n)} {y}^{(n)}$ wrt. $w$ is $\\frac{\\partial}{\\partial w} y^{(n)}(w^\\top x^{(n)}) = y^{(n)} x^{(n)}$. Therefore, if the example is misclassified\n",
    "the Perceptron learning algorithm simply updates $w$ using\n",
    "$$\n",
    "w^{\\{t+1\\}} \\leftarrow w^{\\{t\\}} + y^{(n)} x^{(n)}\n",
    "$$\n",
    "If the data is linearly separable, the algorithm is guaranteed to converge. \n",
    "However, if the data is not linearly separable, this procedure does not converge, and oscillates. Below, we use a `max_iters` to in case the data is not linearly seperable. We also record the update *history* so that we can visualize the learning. To be consistent with previous classification methods, we assume the input labels are in $\\{0,1\\}$."
   ]
  },
  {
   "cell_type": "code",
   "execution_count": null,
   "metadata": {},
   "outputs": [],
   "source": [
    "import numpy as np\n",
    "#%matplotlib notebook\n",
    "%matplotlib inline\n",
    "import matplotlib.pyplot as plt\n",
    "from IPython.core.debugger import set_trace\n",
    "import warnings\n",
    "warnings.filterwarnings('ignore')"
   ]
  },
  {
   "cell_type": "code",
   "execution_count": null,
   "metadata": {},
   "outputs": [],
   "source": [
    "class Perceptron:\n",
    "    \n",
    "    def __init__(self, add_bias=True, max_iters=10000, record_updates=False):\n",
    "        self.add_bias = add_bias\n",
    "        self.max_iters = max_iters\n",
    "        self.record_updates = record_updates\n",
    "        if record_updates:\n",
    "            self.w_hist = []\n",
    "            self.n_hist = []\n",
    "            \n",
    "    def fit(self, x, y):\n",
    "        if x.ndim == 1:\n",
    "            x = np.reshape(x, (-1,1))\n",
    "        if self.add_bias:\n",
    "            N = x.shape[0]\n",
    "            x = np.column_stack(x, np.ones(N))\n",
    "        N,D = x.shape\n",
    "        w = np.zeros(D)\n",
    "        if self.record_updates:\n",
    "            w_hist = [w]\n",
    "        y = 2*y - 1\n",
    "        t = 0\n",
    "        changed = True\n",
    "        while changed and t < self.max_iters:\n",
    "            changed = False\n",
    "            for n in np.random.permutation(N):\n",
    "                yh = np.sign(np.dot(x[n,:], w))\n",
    "                if yh == y[n]:\n",
    "                    continue\n",
    "                w = w + y[n]*x[n,:]\n",
    "                if self.record_updates:\n",
    "                    self.w_hist.append(w)\n",
    "                    self.n_hist.append(n)\n",
    "                changed = True\n",
    "                t += 1\n",
    "                if t > self.max_iters:\n",
    "                    break\n",
    "        \n",
    "        if changed:\n",
    "            print(f\"Did not converge after {t} updates\")\n",
    "        else:\n",
    "            print(f\"Converged after {t} updates\")\n",
    "        self.w = w\n",
    "        return self\n",
    "        \n",
    "    def predict(self, x):\n",
    "        if x.ndim == 1:\n",
    "            np.reshape(x, (-1,1))\n",
    "        Nt = x.shape[0]\n",
    "        if self.add_bias:\n",
    "            x = np.column_stack(x, np.ones(Nt))\n",
    "        yh = np.sign(np.dot(self.w, x))\n",
    "        return (yh+1)//2"
   ]
  }
 ],
 "metadata": {
  "interpreter": {
   "hash": "6a153f741c64fa7f4b5a8153131df67bb9c60d10603b5e2015db9c3d1e908e57"
  },
  "kernelspec": {
   "display_name": "Python 3.10.2 64-bit",
   "language": "python",
   "name": "python3"
  },
  "language_info": {
   "codemirror_mode": {
    "name": "ipython",
    "version": 3
   },
   "file_extension": ".py",
   "mimetype": "text/x-python",
   "name": "python",
   "nbconvert_exporter": "python",
   "pygments_lexer": "ipython3",
   "version": "3.10.2"
  },
  "orig_nbformat": 4
 },
 "nbformat": 4,
 "nbformat_minor": 2
}

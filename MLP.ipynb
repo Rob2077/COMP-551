{
 "cells": [
  {
   "cell_type": "markdown",
   "metadata": {},
   "source": [
    "# Multilayer Perception\n",
    "\n",
    "Our goal here is to implement a two-layer neural network for binary classification, train it using gradient descent and use it to classify the Iris dataset.\n",
    "Our model is\n",
    "$$\n",
    "\\hat{y} = \\sigma \\left ( W \\sigma \\left ( V x \\right ) \\right)\n",
    "$$\n",
    "where we have $M$ hidden units and $D$ input features -- that is $w \\in \\mathbb{R}^{M}$, and $V \\in \\mathbb{R}^{M \\times D}$. For simplicity here we do not include a bias parameter for each layer. Key to our implementation is the gradient calculation. We follow the notation used in the slides here."
   ]
  },
  {
   "cell_type": "code",
   "execution_count": null,
   "metadata": {},
   "outputs": [],
   "source": [
    "import numpy as np"
   ]
  }
 ],
 "metadata": {
  "language_info": {
   "name": "python"
  },
  "orig_nbformat": 4
 },
 "nbformat": 4,
 "nbformat_minor": 2
}

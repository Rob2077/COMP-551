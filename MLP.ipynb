{
 "cells": [
  {
   "cell_type": "markdown",
   "metadata": {},
   "source": [
    "# Multilayer Perception\n",
    "\n",
    "Our goal here is to implement a two-layer neural network for binary classification, train it using gradient descent and use it to classify the Iris dataset.\n",
    "Our model is\n",
    "$$\n",
    "\\hat{y} = \\sigma \\left ( W \\sigma \\left ( V x \\right ) \\right)\n",
    "$$\n",
    "where we have $M$ hidden units and $D$ input features -- that is $w \\in \\mathbb{R}^{M}$, and $V \\in \\mathbb{R}^{M \\times D}$. For simplicity here we do not include a bias parameter for each layer. Key to our implementation is the gradient calculation. We follow the notation used in the slides here."
   ]
  },
  {
   "cell_type": "code",
   "execution_count": 1,
   "metadata": {},
   "outputs": [],
   "source": [
    "import numpy as np\n",
    "import matplotlib.pyplot as plt\n",
    "from IPython.core.debugger import set_trace\n",
    "import warnings\n",
    "warnings.filterwarnings('ignore')"
   ]
  },
  {
   "cell_type": "code",
   "execution_count": 6,
   "metadata": {},
   "outputs": [],
   "source": [
    "logistic = lambda z: 1/(1+np.exp(z))\n",
    "\n",
    "class MLP:\n",
    "    \n",
    "    def __init__(self, M=64):\n",
    "        self.M = M\n",
    "        \n",
    "    def fit(self, x, y, optimizer):\n",
    "        N,D = x.shape\n",
    "        def gradient(x, y, parameters):\n",
    "            v, w = parameters\n",
    "            q = np.dot(v,x)\n",
    "            z = logistic(q)\n",
    "            u = np.dot(w,z)\n",
    "            yh = logistic(u)\n",
    "            dLdyh = - y / yh + (1-y)/(1-yh)\n",
    "            dyhdu = yh*(1-yh)\n",
    "            dudw = z\n",
    "            dudz = w\n",
    "            dzdq = z*(1-z)\n",
    "            dqdv = x\n",
    "            \n",
    "            dLdw = dLdyh*dyhdu*dudw\n",
    "            dLdv = dLdyh*dyhdu*dudz*dzdq*dqdv\n",
    "            \n",
    "            return [dLdw, dLdv]\n",
    "        \n",
    "        w = np.random.randn(self.M) * 0.01\n",
    "        v = np.random.randn(D,self.M) * 0.01\n",
    "        \n",
    "        self.parameters = optimizer.run(gradient, x, y, [v,w])\n",
    "        return self\n",
    "    \n",
    "    def predict(self, x):\n",
    "        v, w = self.parameters\n",
    "        z = logistic(np.dot(v,x))\n",
    "        yh = logistic(np.dot(w,z))\n",
    "        return yh\n",
    "            "
   ]
  },
  {
   "cell_type": "code",
   "execution_count": null,
   "metadata": {},
   "outputs": [],
   "source": [
    "class GradientDescent:\n",
    "    \n",
    "    def __init__(self, learning_rate=0.001, max_iters=1e4, epsilon=1e-8):\n",
    "        self.learning_rate = learning_rate\n",
    "        self.max_iters = max_iters\n",
    "        self.epsilon = epsilon\n",
    "        \n",
    "    def run(self, gradient_fn, x, y, params):\n",
    "        norms = np.array([np.inf])\n",
    "        t = 1\n",
    "        while np.any(norms > self.epsilon) and t < self.max_iters:\n",
    "            grad = gradient_fn(x, y, params)\n",
    "            for p in range(len(params)):\n",
    "                params[p] -= self.learning_rate * grad[p]\n",
    "            t += 1\n",
    "            norms = np.array([])"
   ]
  }
 ],
 "metadata": {
  "interpreter": {
   "hash": "6a153f741c64fa7f4b5a8153131df67bb9c60d10603b5e2015db9c3d1e908e57"
  },
  "kernelspec": {
   "display_name": "Python 3.10.2 64-bit",
   "language": "python",
   "name": "python3"
  },
  "language_info": {
   "codemirror_mode": {
    "name": "ipython",
    "version": 3
   },
   "file_extension": ".py",
   "mimetype": "text/x-python",
   "name": "python",
   "nbconvert_exporter": "python",
   "pygments_lexer": "ipython3",
   "version": "3.10.2"
  },
  "orig_nbformat": 4
 },
 "nbformat": 4,
 "nbformat_minor": 2
}
